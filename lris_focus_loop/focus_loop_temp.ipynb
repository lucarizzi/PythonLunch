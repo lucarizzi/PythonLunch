{
 "cells": [
  {
   "cell_type": "code",
   "execution_count": 25,
   "metadata": {
    "collapsed": true
   },
   "outputs": [],
   "source": [
    "from astropy.io import fits\n",
    "import numpy as np\n",
    "import os, sys\n",
    "import matplotlib.pyplot as plt\n",
    "from matplotlib.colors import LogNorm\n",
    "from astropy.visualization import astropy_mpl_style\n",
    "from skimage.measure import profile_line\n",
    "plt.style.use(astropy_mpl_style)\n",
    "%matplotlib inline  \n",
    "import MosaicFitsReader as mfr"
   ]
  },
  {
   "cell_type": "code",
   "execution_count": 2,
   "metadata": {
    "collapsed": true
   },
   "outputs": [],
   "source": [
    "def return_mosaic(infile):\n",
    "    # Set output image size \n",
    "    oxsize = 4096 \n",
    "    oysize = 4623 \n",
    "\n",
    "    # Set input image size \n",
    "    ixsize = 4096 \n",
    "    iysize = 1155 \n",
    "\n",
    "    # Create a numpy array with zeros \n",
    "\n",
    "    outimage = np.zeros((oxsize,oysize)) \n",
    "\n",
    "    # Open the fits file readonly by default and create an input hdulist \n",
    "\n",
    "    inlist = fits.open(\"test_images/\"+infile) \n",
    "    inlist.info()\n",
    "    nimages = len(inlist) - 1 \n",
    "    print (\"Number of images: %d\\n\" % (nimages))\n",
    "    if (nimages < 1): \n",
    "      print (\"This file does not appear to be a FITS MEF file.\" )\n",
    "      return\n",
    "\n",
    "    # Merge  the extension images into one numpy array \n",
    "    # The pattern here depends on how the images were placed in the MEF \n",
    "    print(\"add extentions\")\n",
    "    outimage[0:ixsize,0:iysize] = inlist[1].data \n",
    "    outimage[0:ixsize,iysize+1:iysize*2+1] = inlist[2].data \n",
    "    outimage[0:ixsize,iysize*2+2:iysize*3+2] = inlist[3].data \n",
    "    outimage[0:ixsize,iysize*3+3:iysize*4+3] = inlist[4].data \n",
    "\n",
    "    return outimage"
   ]
  },
  {
   "cell_type": "code",
   "execution_count": 3,
   "metadata": {
    "collapsed": true
   },
   "outputs": [],
   "source": [
    "images = ['bfoc0008.fits','bfoc0009.fits','bfoc0010.fits','bfoc0011.fits','bfoc0011.fits','bfoc0012.fits','bfoc0013.fits']"
   ]
  },
  {
   "cell_type": "code",
   "execution_count": 7,
   "metadata": {},
   "outputs": [
    {
     "name": "stdout",
     "output_type": "stream",
     "text": [
      "Filename: test_images/bfoc0008.fits\n",
      "No.    Name      Ver    Type      Cards   Dimensions   Format\n",
      "  0  PRIMARY       1 PrimaryHDU     720   ()      \n",
      "  1  VidInp1       1 ImageHDU       360   (1155, 4096)   int16 (rescales to uint16)   \n",
      "  2  VidInp2       1 ImageHDU       360   (1155, 4096)   int16 (rescales to uint16)   \n",
      "  3  VidInp3       1 ImageHDU       360   (1155, 4096)   int16 (rescales to uint16)   \n",
      "  4  VidInp4       1 ImageHDU       360   (1155, 4096)   int16 (rescales to uint16)   \n",
      "Number of images: 4\n",
      "\n",
      "add extentions\n",
      "2.5\n",
      "Filename: test_images/bfoc0009.fits\n",
      "No.    Name      Ver    Type      Cards   Dimensions   Format\n",
      "  0  PRIMARY       1 PrimaryHDU     720   ()      \n",
      "  1  VidInp1       1 ImageHDU       360   (1155, 4096)   int16 (rescales to uint16)   \n",
      "  2  VidInp2       1 ImageHDU       360   (1155, 4096)   int16 (rescales to uint16)   \n",
      "  3  VidInp3       1 ImageHDU       360   (1155, 4096)   int16 (rescales to uint16)   \n",
      "  4  VidInp4       1 ImageHDU       360   (1155, 4096)   int16 (rescales to uint16)   \n",
      "Number of images: 4\n",
      "\n",
      "add extentions\n",
      "2.65\n",
      "Filename: test_images/bfoc0010.fits\n",
      "No.    Name      Ver    Type      Cards   Dimensions   Format\n",
      "  0  PRIMARY       1 PrimaryHDU     720   ()      \n",
      "  1  VidInp1       1 ImageHDU       360   (1155, 4096)   int16 (rescales to uint16)   \n",
      "  2  VidInp2       1 ImageHDU       360   (1155, 4096)   int16 (rescales to uint16)   \n",
      "  3  VidInp3       1 ImageHDU       360   (1155, 4096)   int16 (rescales to uint16)   \n",
      "  4  VidInp4       1 ImageHDU       360   (1155, 4096)   int16 (rescales to uint16)   \n",
      "Number of images: 4\n",
      "\n",
      "add extentions\n",
      "3.05\n",
      "Filename: test_images/bfoc0011.fits\n",
      "No.    Name      Ver    Type      Cards   Dimensions   Format\n",
      "  0  PRIMARY       1 PrimaryHDU     720   ()      \n",
      "  1  VidInp1       1 ImageHDU       360   (1155, 4096)   int16 (rescales to uint16)   \n",
      "  2  VidInp2       1 ImageHDU       360   (1155, 4096)   int16 (rescales to uint16)   \n",
      "  3  VidInp3       1 ImageHDU       360   (1155, 4096)   int16 (rescales to uint16)   \n",
      "  4  VidInp4       1 ImageHDU       360   (1155, 4096)   int16 (rescales to uint16)   \n",
      "Number of images: 4\n",
      "\n",
      "add extentions\n",
      "3.5\n",
      "Filename: test_images/bfoc0011.fits\n",
      "No.    Name      Ver    Type      Cards   Dimensions   Format\n",
      "  0  PRIMARY       1 PrimaryHDU     720   ()      \n",
      "  1  VidInp1       1 ImageHDU       360   (1155, 4096)   int16 (rescales to uint16)   \n",
      "  2  VidInp2       1 ImageHDU       360   (1155, 4096)   int16 (rescales to uint16)   \n",
      "  3  VidInp3       1 ImageHDU       360   (1155, 4096)   int16 (rescales to uint16)   \n",
      "  4  VidInp4       1 ImageHDU       360   (1155, 4096)   int16 (rescales to uint16)   \n",
      "Number of images: 4\n",
      "\n",
      "add extentions\n",
      "3.5\n",
      "Filename: test_images/bfoc0012.fits\n",
      "No.    Name      Ver    Type      Cards   Dimensions   Format\n",
      "  0  PRIMARY       1 PrimaryHDU     720   ()      \n",
      "  1  VidInp1       1 ImageHDU       360   (1155, 4096)   int16 (rescales to uint16)   \n",
      "  2  VidInp2       1 ImageHDU       360   (1155, 4096)   int16 (rescales to uint16)   \n",
      "  3  VidInp3       1 ImageHDU       360   (1155, 4096)   int16 (rescales to uint16)   \n",
      "  4  VidInp4       1 ImageHDU       360   (1155, 4096)   int16 (rescales to uint16)   \n",
      "Number of images: 4\n",
      "\n",
      "add extentions\n",
      "2.8\n",
      "Filename: test_images/bfoc0013.fits\n",
      "No.    Name      Ver    Type      Cards   Dimensions   Format\n",
      "  0  PRIMARY       1 PrimaryHDU     720   ()      \n",
      "  1  VidInp1       1 ImageHDU       360   (1155, 4096)   int16 (rescales to uint16)   \n",
      "  2  VidInp2       1 ImageHDU       360   (1155, 4096)   int16 (rescales to uint16)   \n",
      "  3  VidInp3       1 ImageHDU       360   (1155, 4096)   int16 (rescales to uint16)   \n",
      "  4  VidInp4       1 ImageHDU       360   (1155, 4096)   int16 (rescales to uint16)   \n",
      "Number of images: 4\n",
      "\n",
      "add extentions\n",
      "2.85\n"
     ]
    }
   ],
   "source": [
    "results = np.array([])\n",
    "for image in images:\n",
    "    image_data = return_mosaic(image)\n",
    "    profile=profile_line(image_data,(100,300),(4000,300),10)\n",
    "    profile = profile-np.median(profile)\n",
    "    print(profile.max())\n",
    "    results = np.append(results,profile.max())\n",
    "    "
   ]
  },
  {
   "cell_type": "code",
   "execution_count": 9,
   "metadata": {},
   "outputs": [
    {
     "data": {
      "image/png": "[encoded data removed]",
      "text/plain": [
       "<matplotlib.figure.Figure at 0x116bd6048>"
      ]
     },
     "metadata": {},
     "output_type": "display_data"
    }
   ],
   "source": [
    "NBINS = 50\n",
    "histogram = plt.hist(image_data.flatten(), NBINS)"
   ]
  },
  {
   "cell_type": "code",
   "execution_count": 10,
   "metadata": {
    "collapsed": true
   },
   "outputs": [],
   "source": [
    "import skimage"
   ]
  },
  {
   "cell_type": "code",
   "execution_count": 11,
   "metadata": {
    "collapsed": true
   },
   "outputs": [],
   "source": [
    "profile=skimage.measure.profile_line(image_data,(100,300),(4000,300),10)"
   ]
  },
  {
   "cell_type": "code",
   "execution_count": 12,
   "metadata": {},
   "outputs": [
    {
     "data": {
      "text/plain": [
       "[<matplotlib.lines.Line2D at 0x116fa2320>]"
      ]
     },
     "execution_count": 12,
     "metadata": {},
     "output_type": "execute_result"
    },
    {
     "data": {
      "image/png": "[encoded data removed]",
      "text/plain": [
       "<matplotlib.figure.Figure at 0x116bd6b70>"
      ]
     },
     "metadata": {},
     "output_type": "display_data"
    }
   ],
   "source": [
    "plt.plot(profile)"
   ]
  },
  {
   "cell_type": "code",
   "execution_count": 56,
   "metadata": {},
   "outputs": [
    {
     "data": {
      "text/plain": [
       "1404.7"
      ]
     },
     "execution_count": 56,
     "metadata": {},
     "output_type": "execute_result"
    }
   ],
   "source": [
    "numpy.median(profile)"
   ]
  },
  {
   "cell_type": "code",
   "execution_count": 57,
   "metadata": {
    "collapsed": true
   },
   "outputs": [],
   "source": [
    "profile = profile-numpy.median(profile)"
   ]
  },
  {
   "cell_type": "code",
   "execution_count": 58,
   "metadata": {},
   "outputs": [
    {
     "data": {
      "text/plain": [
       "array([-22.7, -23.7, -23.5, ..., -19.3, -17.6, -19.4])"
      ]
     },
     "execution_count": 58,
     "metadata": {},
     "output_type": "execute_result"
    }
   ],
   "source": [
    "profile"
   ]
  },
  {
   "cell_type": "code",
   "execution_count": 59,
   "metadata": {},
   "outputs": [
    {
     "data": {
      "text/plain": [
       "[<matplotlib.lines.Line2D at 0x12de78160>]"
      ]
     },
     "execution_count": 59,
     "metadata": {},
     "output_type": "execute_result"
    },
    {
     "data": {
      "image/png": "[encoded data removed]",
      "text/plain": [
       "<matplotlib.figure.Figure at 0x12e5902e8>"
      ]
     },
     "metadata": {},
     "output_type": "display_data"
    }
   ],
   "source": [
    "plt.plot(profile)"
   ]
  },
  {
   "cell_type": "markdown",
   "metadata": {},
   "source": [
    "Code supplied by Kyle"
   ]
  },
  {
   "cell_type": "code",
   "execution_count": 35,
   "metadata": {},
   "outputs": [
    {
     "data": {
      "image/png": "[encoded data removed]",
      "text/plain": [
       "<matplotlib.figure.Figure at 0x11805ee80>"
      ]
     },
     "metadata": {},
     "output_type": "display_data"
    }
   ],
   "source": [
    "points = []\n",
    "min_row = 10\n",
    "max_row = 4000\n",
    "min_column = 1750\n",
    "max_column = 1850\n",
    "for file in images:\n",
    "        ffile = mfr.MosaicFitsReader(\"test_images/\"+file)\n",
    "        data = ffile.data\n",
    "        focus = ffile.getKeyword('BLUFOCUS')\n",
    "        region = data[min_row:max_row, min_column:max_column]\n",
    "        region = region.astype (int)\n",
    "        flat = region.flatten ()\n",
    "        flat = list (flat)     # 10% overall speedup by using a list.\n",
    "\n",
    "        minimum = min (flat)\n",
    "        maximum = max (flat)\n",
    "\n",
    "\n",
    "       # Pixel values are 16-bit integers. The bias floor is typically\n",
    "       # a hair less than a thousand, and a well-saturated pixel for\n",
    "       # the dewar focus series is in the neighborhood of 14,000.\n",
    "       # Anything over twice the nominal useful range is not real \n",
    "\t# data.\n",
    "\n",
    "        histogram = [0,] * (32768 + 1)\n",
    "\n",
    "        for number in flat:\n",
    "               if number <= 32768:\n",
    "                       histogram[number] += 1\n",
    "\n",
    "        histogram = np.array (histogram)\n",
    "        plt.hist(histogram)\n",
    "        deviation = histogram.std ()\n",
    "        points.append ((focus, deviation))"
   ]
  },
  {
   "cell_type": "code",
   "execution_count": 34,
   "metadata": {},
   "outputs": [
    {
     "data": {
      "text/plain": [
       "[(-3717.99633789, 284.85008048344685),\n",
       " (-3628.32397461, 271.87026654161423),\n",
       " (-3539.27026367, 268.4340508857494),\n",
       " (-3449.59814453, 264.32137524993283),\n",
       " (-3449.59814453, 264.32137524993283),\n",
       " (-3359.30737305, 262.26288115565137),\n",
       " (-3269.63525391, 261.12191372719735)]"
      ]
     },
     "execution_count": 34,
     "metadata": {},
     "output_type": "execute_result"
    }
   ],
   "source": [
    "points"
   ]
  },
  {
   "cell_type": "code",
   "execution_count": null,
   "metadata": {
    "collapsed": true
   },
   "outputs": [],
   "source": []
  }
 ],
 "metadata": {
  "kernelspec": {
   "display_name": "Python 3",
   "language": "python",
   "name": "python3"
  },
  "language_info": {
   "codemirror_mode": {
    "name": "ipython",
    "version": 3
   },
   "file_extension": ".py",
   "mimetype": "text/x-python",
   "name": "python",
   "nbconvert_exporter": "python",
   "pygments_lexer": "ipython3",
   "version": "3.6.3"
  }
 },
 "nbformat": 4,
 "nbformat_minor": 2
}
