{
 "cells": [
  {
   "cell_type": "markdown",
   "metadata": {},
   "source": [
    "## ESI Focus\n",
    "\n",
    "Finds best focus for different kinds of images."
   ]
  },
  {
   "cell_type": "code",
   "execution_count": 1,
   "metadata": {},
   "outputs": [],
   "source": [
    "%matplotlib inline\n",
    "import sys\n",
    "import math\n",
    "import matplotlib.pyplot as plt\n",
    "from  matplotlib.backends.backend_pdf import PdfPages\n",
    "\n",
    "import numpy as np\n",
    "import glob\n",
    "import pandas as pd\n",
    "\n",
    "import MosaicFitsReader as mfr\n",
    "import FindSources as fs\n",
    "\n",
    "import astropy.io.fits as pf\n",
    "sys.path.append(\"../../libs/\")\n",
    "import HEq\n",
    "import traceback"
   ]
  },
  {
   "cell_type": "code",
   "execution_count": 2,
   "metadata": {},
   "outputs": [],
   "source": [
    "def findBestFocusHelper(pairs, weight=0, nloop=3):\n",
    "    \"\"\"\n",
    "    Fits a hyperbola: x=focus, y=fwhm\n",
    "\n",
    "    Hyperbola equation: y^2 = Ax^2 + Bx + C\n",
    "    \"\"\"\n",
    "        \n",
    "    if weight > 0:\n",
    "        \"\"\"\n",
    "        Use two helper points to pull the curve up.\n",
    "        These two points have lower weights (0.1).\n",
    "        \"\"\"\n",
    "        xs = np.append(pairs[0], (-20, 30))\n",
    "        ys = np.append(pairs[1], (4, 3.5))\n",
    "    \n",
    "        w = [1] * len(xs)\n",
    "        w[-2] = w[-1] = weight\n",
    "        w = np.divide (w, sum(w))\n",
    "        nloop = 1\n",
    "    else:\n",
    "        xs = pairs[0]\n",
    "        ys = pairs[1]\n",
    "        w = [1] * len(xs)\n",
    "    \n",
    "    ysSqr = np.multiply(ys, ys) \n",
    "    \"\"\"\n",
    "    for i in range(nloop):\n",
    "        coef = np.polyfit(xs, ysSqr, deg=2, w = w)\n",
    "        func = np.poly1d(coef)\n",
    "        w = np.abs(ysSqr - func(xs))\n",
    "        w = np.divide(w, np.sum(w))\n",
    "    \"\"\"#\n",
    "    coef = np.polyfit(xs, ysSqr, deg=2, w = w)\n",
    "    return coef\n",
    "\n",
    "def findBestFocus (pairs):\n",
    "    for w in list((0, 0.1, 1)):\n",
    "        coef = findBestFocusHelper(pairs, w)\n",
    "        A, B, C = coef\n",
    "        if A > 0:\n",
    "            break\n",
    "        else:\n",
    "            print (\"Use helper points because A is %.2e\" % A)\n",
    "        \n",
    "    func = np.poly1d(coef)\n",
    "    def func1 (x):\n",
    "        return math.sqrt(max(0, func(x)))\n",
    "\n",
    "    funcV = np.vectorize(func1)\n",
    "    minX = -B/2/A\n",
    "    return minX, funcV\n",
    "    "
   ]
  },
  {
   "cell_type": "code",
   "execution_count": 3,
   "metadata": {},
   "outputs": [
    {
     "name": "stdout",
     "output_type": "stream",
     "text": [
      "LAMPAR1 lamp 1 sec\n",
      "LAMPCU1 lamp 10 sec\n",
      "LAMPNE1 lamp 1 sec\n",
      "LAMPQTZ1 lamp 1 sec\n",
      "bias\n",
      "focusloop direct B\n",
      "focusloop direct Clear_\n",
      "focusloop direct EllisR\n",
      "focusloop direct I\n",
      "focusloop direct R\n",
      "focusloop direct V\n",
      "focusloop echellette\n",
      "focusloop lowD\n"
     ]
    }
   ],
   "source": [
    "def getFileGroups (fileList):\n",
    "    with open(fileList) as fh:\n",
    "        fileList = []\n",
    "        for line in fh:\n",
    "            if not 'OBJECT' in line:\n",
    "                continue\n",
    "            parts = line.strip().split()\n",
    "            name, tpe = parts[0], ' '.join(parts[3:]).strip(\" '\")\n",
    "            fileList.append((name, tpe))\n",
    "    df = pd.DataFrame(fileList, columns=('name', 'imgType'))\n",
    "\n",
    "    groups = df.groupby (by=df.imgType)\n",
    "    return groups\n",
    "\n",
    "groups = getFileGroups(\"data/2017nov16/files.list\")\n",
    "for k in groups.groups.keys():\n",
    "    print (k)"
   ]
  },
  {
   "cell_type": "code",
   "execution_count": 4,
   "metadata": {},
   "outputs": [],
   "source": [
    "def getBestCens (cens, nr):\n",
    "    \"\"\"\n",
    "    Sorts the given centroids by fwhm and filters out the duplicates.\n",
    "    Returns the (nr) first cenroids.\n",
    "    \"\"\"\n",
    "    if len(cens) < 1:\n",
    "        return cens\n",
    "    s = sorted (cens, key= lambda x : x[2], reverse=True)\n",
    "    x0 = s[0]\n",
    "    out = []\n",
    "    for x in s[1:]:\n",
    "        dx = x[0] - x0[0]\n",
    "        if abs(dx) > 1E-2:\n",
    "            out.append(x0)\n",
    "        x0 = x\n",
    "    return out[1:nr+1]"
   ]
  },
  {
   "cell_type": "code",
   "execution_count": 5,
   "metadata": {},
   "outputs": [],
   "source": [
    "def findCentroids (data, roi, cellSize, nr):\n",
    "    \"\"\"\n",
    "    Finds the best centroids in a given region of interest.\n",
    "    data: full size image\n",
    "    roi: region of interest (x0,x1),(y0,y1)\n",
    "    cellSize: size of the search cell\n",
    "    nr: number of centroids to return\n",
    "    \"\"\"\n",
    "    (x0, x1), (y0, y1) = roi\n",
    "    fc = fs.FindSources(data[y0:y1,x0:x1])\n",
    "    cens = fc.findAll(cellSize, sfactor=2)\n",
    "    half = cellSize//2\n",
    "    fc = fs.FindSources(data[y0+half:y1,x0+half:x1])\n",
    "    cens1 = fc.findAll(cellSize, sfactor=2)\n",
    "    for cn in cens1:\n",
    "        cnn = list (cn)\n",
    "        cnn[0] += half\n",
    "        cnn[1] += half\n",
    "        cens.append(cnn)\n",
    "\n",
    "    cens = getBestCens(cens, nr) \n",
    "    return cens"
   ]
  },
  {
   "cell_type": "code",
   "execution_count": 6,
   "metadata": {},
   "outputs": [],
   "source": [
    "def findCentroids1D (data, roi, fwidth=30):\n",
    "    (x0,x1),(y0,y1) = roi\n",
    "    cut1d = data[y0,x0:x1]\n",
    "\n",
    "    out = []\n",
    "    for x in range(0, len(cut1d)-fwidth, fwidth):\n",
    "        res, xc, std, cnt = fs.centroid1DLoop(cut1d, x, x+fwidth)\n",
    "        fwhm = std * 2.35\n",
    "        if res != 0 or fwhm > fwidth//5:\n",
    "            continue\n",
    "        out.append((xc, fwhm))\n",
    "    return out\n",
    "\n",
    "def findCentroids1DFiles (prefix, flist, roi, fwidth=30):\n",
    "    out = []\n",
    "    for n in flist:\n",
    "        ff = pf.open(prefix + n)[0]\n",
    "        collfocr = ff.header['COLLFOCR'] * 1E-4\n",
    "        cens = findCentroids1D (ff.data, roi, fwidth)\n",
    "        out.extend( ( (collfocr,x[1]) for x in cens) )\n",
    "    return out"
   ]
  },
  {
   "cell_type": "code",
   "execution_count": 7,
   "metadata": {},
   "outputs": [],
   "source": [
    "# Region of interest for focus loop images\n",
    "RegionOfInterest = (415, 640), (1010, 1080)\n",
    "EchelletteROI = (1250,1750),(1550,1750)\n",
    "LowDROI = (200,1600), (2000, 2001)"
   ]
  },
  {
   "cell_type": "code",
   "execution_count": 8,
   "metadata": {},
   "outputs": [],
   "source": [
    "def findCentroidsFiles(prefix, flist, roi):\n",
    "    \"\"\"\n",
    "    Finds centroids in a list of files and associates them with the focus value (COLLFOR).\n",
    "    Returns the fwhm/focus pairs.\n",
    "    \"\"\"\n",
    "    useAll = True\n",
    "    out = []\n",
    "    currName = \"\"\n",
    "    for n in flist:   \n",
    "        ff = pf.open(prefix + n)[0]\n",
    "        collfocr = ff.header['COLLFOCR'] * 1E-4\n",
    "        cens = findCentroids(ff.data, roi, 17, 9)\n",
    "        if len(cens) <= 0:\n",
    "            continue\n",
    "        if useAll:\n",
    "            out.extend( ( (collfocr,x[2]) for x in cens) )\n",
    "        else:\n",
    "            avg = np.mean([ x[2] for x in cens ])\n",
    "            out.append ((collfocr, avg))\n",
    "    return out"
   ]
  },
  {
   "cell_type": "code",
   "execution_count": 9,
   "metadata": {},
   "outputs": [],
   "source": [
    "def processOneFocusSet (prefix, flist, roi):\n",
    "    out = findCentroidsFiles (prefix, flist, roi)\n",
    "    outT = np.array(out).T\n",
    "    minF, func = findBestFocus(outT)\n",
    "    return outT, minF, func\n",
    "\n",
    "def processOneFocusSet1D (prefix, flist, roi):\n",
    "    out = findCentroids1DFiles (prefix, flist, roi)\n",
    "    outT = np.array(out).T\n",
    "    minF, func = findBestFocus(outT)\n",
    "    return outT, minF, func\n",
    "\n",
    "def plotOneFocusSet (pdf, title, focVals, fwhms, func):\n",
    "    fig = plt.figure(figsize=(10, 3))\n",
    "    plt.title (title)\n",
    "    xs = focVals * 1E4\n",
    "    plt.plot(xs, fwhms, '.')\n",
    "    \n",
    "    xs1 = np.linspace(min(xs), max(xs), 25)\n",
    "    fv1 = np.linspace(min(focVals), max(focVals), 25)\n",
    "    plt.plot(xs1, func(fv1), '-', label='fitted')\n",
    "    plt.grid()\n",
    "    plt.legend()\n",
    "    plt.ylabel('FWHM [\"]')\n",
    "    plt.xlabel (\"Focus (COLLFOCR)\")\n",
    "    plt.tight_layout()\n",
    "    if pdf:\n",
    "        pdf.savefig(fig)\n",
    "        plt.close(fig)"
   ]
  },
  {
   "cell_type": "code",
   "execution_count": 10,
   "metadata": {},
   "outputs": [],
   "source": [
    "def processFocusImages (pdf, prefix, groups):\n",
    "    def processOne(gname, roi, pfunc):\n",
    "        print (\"Processing\", gname)\n",
    "        files = groups.get_group(gname).name\n",
    "        pairs, minF, func = pfunc(prefix, files, roi) \n",
    "        title = gname + \" - Best Focus=%.0f\" % (minF * 1E4)\n",
    "        plotOneFocusSet (pdf, title, pairs[0], pairs[1], func)\n",
    "\n",
    "    for k in groups.groups.keys():\n",
    "        if not 'focusloop direct' in k:\n",
    "            continue\n",
    "        processOne (k, RegionOfInterest, processOneFocusSet)\n",
    "    \n",
    "    processOne ('focusloop echellette', EchelletteROI, processOneFocusSet) \n",
    "    processOne ('focusloop lowD', LowDROI, processOneFocusSet1D)    "
   ]
  },
  {
   "cell_type": "code",
   "execution_count": 11,
   "metadata": {
    "scrolled": false
   },
   "outputs": [
    {
     "name": "stdout",
     "output_type": "stream",
     "text": [
      "Processing focusloop direct B\n",
      "Processing focusloop direct Clear_\n",
      "Processing focusloop direct EllisR\n",
      "Processing focusloop direct I\n",
      "Processing focusloop direct R\n",
      "Processing focusloop direct V\n",
      "Processing focusloop echellette\n",
      "Processing focusloop lowD\n"
     ]
    }
   ],
   "source": [
    "with PdfPages('2017nov16.pdf') as pdf:\n",
    "    processFocusImages(pdf, \"data/2017nov16/\", groups)"
   ]
  },
  {
   "cell_type": "code",
   "execution_count": 17,
   "metadata": {},
   "outputs": [],
   "source": [
    "pairs, minF, func = processOneFocusSet(\"data/2017nov16/\", \n",
    "    groups.get_group('focusloop direct V').name, RegionOfInterest)"
   ]
  },
  {
   "cell_type": "code",
   "execution_count": 13,
   "metadata": {},
   "outputs": [],
   "source": [
    "echelleROI = (1250,1750),(1550,1750)\n",
    "pairs, minF, func = processOneFocusSet(\"data/2017nov16/\", \n",
    "        groups.get_group('focusloop echellette').name, echelleROI)"
   ]
  },
  {
   "cell_type": "code",
   "execution_count": 14,
   "metadata": {},
   "outputs": [],
   "source": [
    "pairs, minF, func = processOneFocusSet1D(\"data/2017nov16/\", \n",
    "        groups.get_group('focusloop lowD').name, LowDROI)"
   ]
  },
  {
   "cell_type": "code",
   "execution_count": 18,
   "metadata": {},
   "outputs": [
    {
     "name": "stdout",
     "output_type": "stream",
     "text": [
      "8.3949037288\n"
     ]
    },
    {
     "data": {
      "image/png": "[encoded data removed]",
      "text/plain": [
       "<matplotlib.figure.Figure at 0x7efed983d908>"
      ]
     },
     "metadata": {},
     "output_type": "display_data"
    }
   ],
   "source": [
    "plotOneFocusSet(None, \"\", pairs[0], pairs[1], func)\n",
    "print (minF)"
   ]
  },
  {
   "cell_type": "code",
   "execution_count": 16,
   "metadata": {},
   "outputs": [],
   "source": [
    "# Special cases echellette and lowD"
   ]
  },
  {
   "cell_type": "code",
   "execution_count": null,
   "metadata": {},
   "outputs": [],
   "source": []
  }
 ],
 "metadata": {
  "kernelspec": {
   "display_name": "Python 3",
   "language": "python",
   "name": "python3"
  },
  "language_info": {
   "codemirror_mode": {
    "name": "ipython",
    "version": 3
   },
   "file_extension": ".py",
   "mimetype": "text/x-python",
   "name": "python",
   "nbconvert_exporter": "python",
   "pygments_lexer": "ipython3",
   "version": "3.6.3"
  }
 },
 "nbformat": 4,
 "nbformat_minor": 2
}
